{
 "cells": [
  {
   "cell_type": "code",
   "execution_count": null,
   "id": "e8d0f15f",
   "metadata": {},
   "outputs": [],
   "source": [
    "import os\n",
    "import sys\n",
    "import joblib\n",
    "import math\n",
    "import numpy as np\n",
    "import pandas as pd\n",
    "from collections import Counter"
   ]
  },
  {
   "cell_type": "code",
   "execution_count": null,
   "id": "8ff38569",
   "metadata": {},
   "outputs": [],
   "source": [
    "# --- Model selection ---\n",
    "selection = int(input(\"Choose a Model\\n1. Decision Tree\\n2. Random Forest\\n\"))\n",
    "m = \"\"\n",
    "le_ext = None  # Default if not used\n",
    "\n",
    "if selection == 1:\n",
    "    saved = joblib.load(\"DecisionTree.joblib\")\n",
    "    m = \"Decision Tree\"\n",
    "    le_ext = saved['le_ext']\n",
    "elif selection == 2:\n",
    "    saved = joblib.load(\"RandomForest.joblib\")\n",
    "    m = \"Random Forest\"\n",
    "else:\n",
    "    print(\"Invalid selection.\")\n",
    "    sys.exit()\n",
    "\n",
    "model = saved['model']\n",
    "le_target = saved['le_target']"
   ]
  },
  {
   "cell_type": "code",
   "execution_count": null,
   "id": "1c5d44c2",
   "metadata": {},
   "outputs": [],
   "source": [
    "# --- Feature extraction ---\n",
    "def compute_entropy(byte_data):\n",
    "    byte_counts = Counter(byte_data)\n",
    "    total = len(byte_data)\n",
    "    return -sum((count / total) * math.log2(count / total) for count in byte_counts.values())\n",
    "\n",
    "def extract_features_from_file(file_path, le_ext=None):\n",
    "    with open(file_path, \"rb\") as f:\n",
    "        byte_data = f.read()\n",
    "\n",
    "    file_size = os.path.getsize(file_path)\n",
    "    entropy = compute_entropy(byte_data)\n",
    "\n",
    "    try:\n",
    "        text = byte_data.decode(\"utf-8\", errors=\"ignore\")\n",
    "        lines = text.splitlines()\n",
    "        avg_line_length = np.mean([len(line) for line in lines]) if lines else 0\n",
    "        column_count = np.mean([line.count(\",\") + 1 for line in lines if \",\" in line]) if lines else 0\n",
    "    except:\n",
    "        avg_line_length = 0\n",
    "        column_count = 0\n",
    "\n",
    "    bit_depth = 8\n",
    "\n",
    "    byte_counts = np.zeros(256)\n",
    "    for byte in byte_data:\n",
    "        byte_counts[byte] += 1\n",
    "    byte_distribution = byte_counts / len(byte_data)\n",
    "\n",
    "    ext = os.path.splitext(file_path)[1][1:].lower()\n",
    "\n",
    "    if le_ext:\n",
    "        if ext not in le_ext.classes_:\n",
    "            raise ValueError(f\"Unknown file extension: '{ext}'\")\n",
    "        ext_encoded = int(le_ext.transform([ext])[0])\n",
    "    else:\n",
    "        # Fallback: use dummy number (you can create a mapping if needed)\n",
    "        ext_encoded = 0\n",
    "\n",
    "    features = [ext_encoded, file_size, entropy, avg_line_length, column_count, bit_depth]\n",
    "    features.extend(byte_distribution)\n",
    "\n",
    "    columns = ['file_extension', 'file_size', 'entropy', 'avg_line_length', 'column_count', 'bit_depth'] + \\\n",
    "              [f'byte_{i}' for i in range(256)]\n",
    "\n",
    "    return pd.DataFrame([features], columns=columns)"
   ]
  },
  {
   "cell_type": "code",
   "execution_count": null,
   "id": "801b9c64",
   "metadata": {},
   "outputs": [],
   "source": [
    "file_path = r\"C:\\Users\\prana\\Downloads\\WhatsApp Image 2025-04-18 at 22.51.05_ec2ebf93.jpg\"\n",
    "\n",
    "try:\n",
    "    X = extract_features_from_file(file_path, le_ext)\n",
    "    y_pred_encoded = model.predict(X)\n",
    "    y_pred_label = le_target.inverse_transform(y_pred_encoded)\n",
    "\n",
    "    print(f\"Using the model {m} Predicted best compression tool for {file_path}: {y_pred_label[0]}\")\n",
    "except Exception as e:\n",
    "    print(f\"Error: {e}\")"
   ]
  }
 ],
 "metadata": {
  "kernelspec": {
   "display_name": "myenv",
   "language": "python",
   "name": "python3"
  },
  "language_info": {
   "codemirror_mode": {
    "name": "ipython",
    "version": 3
   },
   "file_extension": ".py",
   "mimetype": "text/x-python",
   "name": "python",
   "nbconvert_exporter": "python",
   "pygments_lexer": "ipython3",
   "version": "3.11.9"
  }
 },
 "nbformat": 4,
 "nbformat_minor": 5
}
